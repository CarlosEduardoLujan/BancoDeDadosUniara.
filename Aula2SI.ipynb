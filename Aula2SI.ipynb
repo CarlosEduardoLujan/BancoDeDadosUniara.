{
  "nbformat": 4,
  "nbformat_minor": 0,
  "metadata": {
    "colab": {
      "provenance": [],
      "authorship_tag": "ABX9TyMJchQp687eVj/muKqnijHM",
      "include_colab_link": true
    },
    "kernelspec": {
      "name": "python3",
      "display_name": "Python 3"
    },
    "language_info": {
      "name": "python"
    }
  },
  "cells": [
    {
      "cell_type": "markdown",
      "metadata": {
        "id": "view-in-github",
        "colab_type": "text"
      },
      "source": [
        "<a href=\"https://colab.research.google.com/github/CarlosEduardoLujan/BancoDeDadosUniara./blob/main/Aula2SI.ipynb\" target=\"_parent\"><img src=\"https://colab.research.google.com/assets/colab-badge.svg\" alt=\"Open In Colab\"/></a>"
      ]
    },
    {
      "cell_type": "code",
      "execution_count": 4,
      "metadata": {
        "colab": {
          "base_uri": "https://localhost:8080/"
        },
        "id": "lO_cGtOSHczy",
        "outputId": "0890dad8-10c5-4c28-a090-101516d9ae4f"
      },
      "outputs": [
        {
          "output_type": "stream",
          "name": "stdout",
          "text": [
            "oba turma da UNIARA de SI\n"
          ]
        }
      ],
      "source": [
        "print(\"oba turma da UNIARA de SI\");\n"
      ]
    },
    {
      "cell_type": "code",
      "source": [
        "#aqui estou declarando uma variavel recebendo o nome do arquivo\n",
        "arquivo = \"turmaUniaraArquivo.txt\"\n",
        "#estou abrindo um arquivi, para poder gravar dados (\"w\"), e criando\n",
        "#um alias (apelido) para poder ser ultilizado dentro do código\n",
        "with open(arquivo, \"w\")as f:\n",
        "    f.write(\"é isso ai!!! Turma!\\n\")\n",
        "    f.write(\"muito bom!\")\n",
        "print(\"Feito\")"
      ],
      "metadata": {
        "colab": {
          "base_uri": "https://localhost:8080/"
        },
        "id": "pXZCrSGMIPDO",
        "outputId": "9446c513-70c6-4ff7-802d-f2bcb2d486e3"
      },
      "execution_count": 7,
      "outputs": [
        {
          "output_type": "stream",
          "name": "stdout",
          "text": [
            "Feito\n"
          ]
        }
      ]
    }
  ]
}